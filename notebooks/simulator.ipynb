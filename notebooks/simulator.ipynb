{
 "cells": [
  {
   "cell_type": "code",
   "execution_count": 1,
   "metadata": {},
   "outputs": [],
   "source": [
    "from manrs.models import Base, Report, Result\n",
    "import config\n",
    "from sqlalchemy.orm import sessionmaker\n",
    "from sqlalchemy import or_, func\n",
    "import numpy as np\n",
    "from dateutil.relativedelta import relativedelta\n",
    "from datetime import datetime"
   ]
  },
  {
   "cell_type": "code",
   "execution_count": 2,
   "metadata": {},
   "outputs": [],
   "source": [
    "Session = sessionmaker(config.DB_ENGINE)\n",
    "session = Session()\n",
    "month = relativedelta(months=1)"
   ]
  },
  {
   "cell_type": "code",
   "execution_count": 3,
   "metadata": {},
   "outputs": [
    {
     "name": "stdout",
     "output_type": "stream",
     "text": [
      "Number of ASNs in database: 190\n"
     ]
    }
   ],
   "source": [
    "asns = session.query(Result.asn).distinct().all()\n",
    "print(f\"Number of ASNs in database: {len(asns)}\")"
   ]
  },
  {
   "cell_type": "code",
   "execution_count": 5,
   "metadata": {},
   "outputs": [
    {
     "name": "stdout",
     "output_type": "stream",
     "text": [
      "Number of reports in database: 190\n"
     ]
    }
   ],
   "source": [
    "# list all reports in database\n",
    "reports = session.query(Report.id, Report.period_start).all()\n",
    "print(f\"Number of reports in database: {len(asns)}\")"
   ]
  },
  {
   "cell_type": "code",
   "execution_count": 6,
   "metadata": {},
   "outputs": [],
   "source": [
    "# last report\n",
    "last_report = session.query(func.max(Report.period_start)).one()[0]"
   ]
  },
  {
   "cell_type": "code",
   "execution_count": 7,
   "metadata": {},
   "outputs": [],
   "source": [
    "def gen_dates(start):\n",
    "    cursor = start\n",
    "    while cursor < datetime.now() + relativedelta(years=1):\n",
    "        cursor += month\n",
    "        yield cursor\n",
    "\n",
    "new_dates = list(gen_dates(last_report))"
   ]
  },
  {
   "cell_type": "code",
   "execution_count": 41,
   "metadata": {},
   "outputs": [],
   "source": [
    "def sampler(mu, sigma, num):\n",
    "    \"\"\" samples from a random distribution and clips values below 0\"\"\"\n",
    "    samples = np.random.normal(mu, sigma, num)\n",
    "    return np.clip(samples, a_min=0, a_max=None)"
   ]
  },
  {
   "cell_type": "code",
   "execution_count": 8,
   "metadata": {},
   "outputs": [],
   "source": [
    "# add new reports to database\n",
    "reports = []\n",
    "for date in new_dates:\n",
    "    end = new_dates[0] + month\n",
    "    report = Report(period_start=date, period_end=end, date_finished=end, type=\"auto\")\n",
    "    session.add(report)"
   ]
  },
  {
   "cell_type": "code",
   "execution_count": 43,
   "metadata": {},
   "outputs": [],
   "source": [
    "# a simple simulation assuming the data is a normal distribution\n",
    "R = Result  # simple shortcut alias\n",
    "for asn in [3356]: # asns\n",
    "    rows = session.query(R.m1, R.m1c, R.m2, R.m2c, R.m3, R.m7irr).filter(Result.asn == asn).all()\n",
    "    array = np.array(rows, dtype=float)\n",
    "    mu = np.mean(array, axis=0)\n",
    "    sigma = np.std(array, axis=0)\n",
    "    \n",
    "    m1    = sampler(mu[0], sigma[0], len(new_dates))\n",
    "    m1c   = sampler(mu[1], sigma[1], len(new_dates))\n",
    "    m2    = sampler(mu[2], sigma[2], len(new_dates))\n",
    "    m2c   = sampler(mu[3], sigma[3], len(new_dates))\n",
    "    m3    = sampler(mu[4], sigma[4], len(new_dates))\n",
    "    m7irr = sampler(mu[5], sigma[5], len(new_dates))\n",
    "    \n",
    "    values = zip(new_dates, m1, m1c, m2, m2c, m3, m7irr)\n",
    "   \n"
   ]
  }
 ],
 "metadata": {
  "kernelspec": {
   "display_name": "Python 3",
   "language": "python",
   "name": "python3"
  },
  "language_info": {
   "codemirror_mode": {
    "name": "ipython",
    "version": 3
   },
   "file_extension": ".py",
   "mimetype": "text/x-python",
   "name": "python",
   "nbconvert_exporter": "python",
   "pygments_lexer": "ipython3",
   "version": "3.6.5"
  }
 },
 "nbformat": 4,
 "nbformat_minor": 1
}
