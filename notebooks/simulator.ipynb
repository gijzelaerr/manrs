{
 "cells": [
  {
   "cell_type": "code",
   "execution_count": 1,
   "metadata": {},
   "outputs": [],
   "source": [
    "from manrs.models import Base, Report, Result\n",
    "import config\n",
    "from sqlalchemy.orm import sessionmaker\n",
    "from sqlalchemy import or_, func\n",
    "import numpy as np\n",
    "from dateutil.relativedelta import relativedelta\n",
    "from datetime import datetime\n",
    "from itertools import repeat\n",
    "from random import random, sample, choice"
   ]
  },
  {
   "cell_type": "code",
   "execution_count": 2,
   "metadata": {},
   "outputs": [],
   "source": [
    "Session = sessionmaker(config.DB_ENGINE)\n",
    "session = Session()\n",
    "month = relativedelta(months=1)"
   ]
  },
  {
   "cell_type": "code",
   "execution_count": 3,
   "metadata": {},
   "outputs": [],
   "source": [
    "def get_asns(session):\n",
    "    asns = session.query(Result.asn).distinct().all()\n",
    "    return [i[0] for i in asns]"
   ]
  },
  {
   "cell_type": "code",
   "execution_count": 4,
   "metadata": {},
   "outputs": [],
   "source": [
    "def get_reports(session):\n",
    "    return session.query(Report.id, Report.period_start).all()\n"
   ]
  },
  {
   "cell_type": "code",
   "execution_count": 5,
   "metadata": {},
   "outputs": [],
   "source": [
    "def get_last_report(session):\n",
    "     return session.query(func.max(Report.period_start)).one()[0]"
   ]
  },
  {
   "cell_type": "code",
   "execution_count": 6,
   "metadata": {},
   "outputs": [],
   "source": [
    "def gen_dates(start):\n",
    "    cursor = start\n",
    "    while cursor < datetime.now() + relativedelta(years=1):\n",
    "        cursor += month\n",
    "        yield cursor"
   ]
  },
  {
   "cell_type": "code",
   "execution_count": 7,
   "metadata": {},
   "outputs": [],
   "source": [
    "def sampler(mu, sigma, num):\n",
    "    \"\"\" samples from a random distribution and clips values below 0\"\"\"\n",
    "    samples = np.random.normal(mu, sigma, num)\n",
    "    return np.clip(samples, a_min=0, a_max=None)"
   ]
  },
  {
   "cell_type": "code",
   "execution_count": 8,
   "metadata": {},
   "outputs": [],
   "source": [
    "def get_old_reports(session):\n",
    "    return session.query(Report).all()"
   ]
  },
  {
   "cell_type": "code",
   "execution_count": 9,
   "metadata": {},
   "outputs": [],
   "source": [
    "def generate_reports(new_dates):\n",
    "    \"\"\"\"Add new fanasy reports to the database\"\"\"\n",
    "    reports = []\n",
    "    for date in new_dates:\n",
    "        end = date + month\n",
    "        report = Report(period_start=date, period_end=end, date_finished=end, type=\"auto\")\n",
    "        reports.append(report)\n",
    "    return reports"
   ]
  },
  {
   "cell_type": "code",
   "execution_count": 10,
   "metadata": {},
   "outputs": [],
   "source": [
    "def get_stats(session, asn):\n",
    "    \"\"\"Build up a statistical model of a specific asn\"\"\"\n",
    "    R = Result  # simple shortcut alias\n",
    "    float_rows = session.query(R.m1, R.m1c, R.m2, R.m2c, R.m3, R.m7irr).filter(Result.asn == asn).all()\n",
    "    array = np.array(float_rows, dtype=float)\n",
    "    mu = np.mean(array, axis=0)\n",
    "    sigma = np.std(array, axis=0)\n",
    "    \n",
    "    bool_rows = session.query(R.m6, R.m8).filter(Result.asn == asn).all()\n",
    "    m6, m8 = list(zip(*bool_rows))\n",
    "    \n",
    "    m6_total = sum(type(i) == bool for i in m6)\n",
    "    if m6_total:\n",
    "        m6_ratio = sum(i==True for i in m6) / m6_total\n",
    "    else:\n",
    "        m6_ratio = 0\n",
    "    \n",
    "    m8_total = sum(type(i) == bool for i in m8)\n",
    "    if m8_total:\n",
    "        m8_ratio = sum(i==True for i in m8) / m8_total\n",
    "    else:\n",
    "        m8_ratio = 0\n",
    "        \n",
    "    return mu, sigma, m6_ratio, m8_ratio"
   ]
  },
  {
   "cell_type": "code",
   "execution_count": 11,
   "metadata": {},
   "outputs": [],
   "source": [
    "def generate_stats(reports, asn, mu, sigma, m6_ratio, m8_ratio):\n",
    "    \"\"\"A simple simulation assuming the data is a normal distribution\"\"\"\n",
    "    \n",
    "    num = len(reports)\n",
    "    \n",
    "    m1s    = sampler(mu[0], sigma[0], num)\n",
    "    m1cs   = sampler(mu[1], sigma[1], num)\n",
    "    m2s    = sampler(mu[2], sigma[2], num)\n",
    "    m2cs   = sampler(mu[3], sigma[3], num)\n",
    "    m3s    = sampler(mu[4], sigma[4], num)\n",
    "    m7irrs = sampler(mu[5], sigma[5], num)\n",
    "    \n",
    "    m6 = (random() < m6_ratio for i in range(num))\n",
    "    m8 = (random() < m8_ratio for i in range(num))\n",
    "    \n",
    "    zipped = zip(reports, m1s, m1cs, m2s, m2cs, m3s, m6, m7irrs, m8)\n",
    "    \n",
    "    results = []\n",
    "    for report, m1, m1c, m2, m2c, m3, m6, m7irr, m8 in zipped:\n",
    "        results.append(Result(asn=asn, report=report, m1=m1, m1c=m1c, m2=m2,\n",
    "                              m2c=m2c, m3=m3, m6=m6, m7irr=m7irr, m8=m8))\n",
    "    return results\n",
    "        "
   ]
  },
  {
   "cell_type": "code",
   "execution_count": 12,
   "metadata": {},
   "outputs": [],
   "source": [
    "def generate_new_reports(session, new_dates, asns):\n",
    "    reports = generate_reports(new_dates)\n",
    "    session.add_all(reports)\n",
    "\n",
    "    results = []\n",
    "    for asn in asns:\n",
    "        mu, sigma, m6_ratio, m8_ratio = get_stats(session, asn)\n",
    "        results += generate_stats(reports, asn, mu, sigma, m6_ratio, m8_ratio)\n",
    "    return results"
   ]
  },
  {
   "cell_type": "code",
   "execution_count": 13,
   "metadata": {},
   "outputs": [],
   "source": [
    "def get_all_stats(session, asns):\n",
    "    all_stats = []\n",
    "    for asn in asns:\n",
    "        all_stats.append(get_stats(session, asn))\n",
    "    return all_stats"
   ]
  },
  {
   "cell_type": "code",
   "execution_count": 14,
   "metadata": {},
   "outputs": [],
   "source": [
    "def generate_asn_data(real_asns, reports, min_asn=0, max_asn=65000, num_asn=60000):\n",
    "    # generate new ASNs, making sure we don't have duplicates\n",
    "    all_stats = get_all_stats(session, real_asns)\n",
    "    new_asns = sample(set(range(min_asn, max_asn)) - set(real_asns), num_asn)\n",
    "    results = []\n",
    "    for asn in new_asns:\n",
    "        mu, sigma, m6_ratio, m8_ratio = choice(all_stats)\n",
    "        results += generate_stats(reports, asn, mu, sigma, m6_ratio, m8_ratio)\n",
    "    return results"
   ]
  },
  {
   "cell_type": "code",
   "execution_count": 15,
   "metadata": {},
   "outputs": [],
   "source": [
    "# generate new ASN data\n",
    "old_reports = get_old_reports(session)\n",
    "asns = get_asns(session)\n",
    "results = generate_asn_data(asns, old_reports, num_asn=10)\n",
    "session.add_all(results)"
   ]
  },
  {
   "cell_type": "code",
   "execution_count": 16,
   "metadata": {},
   "outputs": [],
   "source": [
    "# now fantasize new reports\n",
    "last_report = get_last_report(session)\n",
    "new_dates = list(gen_dates(last_report))\n",
    "asns = get_asns(session)\n",
    "results = generate_new_reports(session, new_dates, asns)\n",
    "session.add_all(results)"
   ]
  },
  {
   "cell_type": "code",
   "execution_count": 17,
   "metadata": {},
   "outputs": [],
   "source": [
    "#session.commit()"
   ]
  }
 ],
 "metadata": {
  "kernelspec": {
   "display_name": "Python 3",
   "language": "python",
   "name": "python3"
  },
  "language_info": {
   "codemirror_mode": {
    "name": "ipython",
    "version": 3
   },
   "file_extension": ".py",
   "mimetype": "text/x-python",
   "name": "python",
   "nbconvert_exporter": "python",
   "pygments_lexer": "ipython3",
   "version": "3.6.5"
  }
 },
 "nbformat": 4,
 "nbformat_minor": 1
}
